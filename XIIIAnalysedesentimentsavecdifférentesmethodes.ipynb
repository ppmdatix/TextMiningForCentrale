{
 "cells": [
  {
   "cell_type": "markdown",
   "metadata": {},
   "source": [
    "# Analyse d’opinion (Polarité de tweet) avec Bayes\n",
    "Par Louis Boivin, Romain Deburghgraeve et Paul Peseux\n",
    "\n",
    "L'objectif de ce Notebbok est d'obtenir un modèle de classification binaire sur des phrases. L'objectif est de dire si une phrase donnée contient une opinion positive ou negative.\n",
    "\n",
    "Il n'y a **pas** d'entre deux. On considère qu'une phrase est soit positive soit négative.\n",
    "\n"
   ]
  },
  {
   "cell_type": "markdown",
   "metadata": {},
   "source": [
    "---------\n",
    "Petite astuce pour occuper tout l'espace"
   ]
  },
  {
   "cell_type": "code",
   "execution_count": 1,
   "metadata": {},
   "outputs": [
    {
     "data": {
      "text/html": [
       "<style>.container { width:100% !important; }</style>"
      ],
      "text/plain": [
       "<IPython.core.display.HTML object>"
      ]
     },
     "metadata": {},
     "output_type": "display_data"
    }
   ],
   "source": [
    "from IPython.core.display import display, HTML\n",
    "display(HTML(\"<style>.container { width:100% !important; }</style>\"))"
   ]
  },
  {
   "cell_type": "markdown",
   "metadata": {},
   "source": [
    "## Import des packages utiles et utilisés"
   ]
  },
  {
   "cell_type": "code",
   "execution_count": 47,
   "metadata": {
    "collapsed": true
   },
   "outputs": [],
   "source": [
    "import nltk\n",
    "import sys\n",
    "from sys import exit \n",
    "import pickle\n",
    "import pandas as pd\n",
    "from sklearn.model_selection import train_test_split\n",
    "from sklearn.metrics import confusion_matrix as confusion_matrix\n",
    "from sklearn.metrics import precision_score as precision_score\n",
    "from sklearn.metrics import accuracy_score as accuracy_score\n",
    "from sklearn.metrics import recall_score as recall_score"
   ]
  },
  {
   "cell_type": "markdown",
   "metadata": {},
   "source": [
    "## Petit Exemple"
   ]
  },
  {
   "cell_type": "markdown",
   "metadata": {},
   "source": [
    "Pour reprendre l'exemple proposé, on crée à la main un dataset d'entrainement "
   ]
  },
  {
   "cell_type": "code",
   "execution_count": 3,
   "metadata": {
    "collapsed": true
   },
   "outputs": [],
   "source": [
    "pos_tweets = [  (\"I love this car\", \"positive\"),\n",
    "                (\"This view is amazing\", \"positive\"),\n",
    "                (\"I feel great this morning\", \"positive\"),\n",
    "                (\"I am so excited about the concert\", \"positive\"),\n",
    "                (\"He is my best friend\", \"positive\"),\n",
    "                (\"Going well\", \"positive\"),\n",
    "                (\"Thank you\", \"positive\"),\n",
    "                (\"Hope you are doing well\", \"positive\"),\n",
    "                (\"I am very happy\", \"positive\"),\n",
    "                (\"Good for you\", \"positive\"),\n",
    "                (\"It is all good. I know about it and I accept it.\", \"positive\"), (\"This is really good!\", \"positive\"),\n",
    "                (\"Tomorrow is going to be fun.\", \"positive\"),\n",
    "                (\"Smiling all around.\", \"positive\"),\n",
    "                (\"These are great apples today.\", \"positive\"),\n",
    "                (\"How about them apples? Thomas is a happy boy.\", \"positive\"), \n",
    "                (\"Thomas is very zen. He is well−mannered.\", \"positive\")]\n",
    "neg_tweets = [  (\"I do not like this car\", \"negative\"), (\"This view is horrible\", \"negative\"),\n",
    "                (\"I feel tired this morning\", \"negative\"),\n",
    "                (\"I am not looking forward to the concert\", \"negative\"),\n",
    "                (\"He is my enemy\", \"negative\"),\n",
    "                (\"I am a bad boy\", \"negative\"),\n",
    "                (\"This is not good\", \"negative\"),\n",
    "                (\"I am bothered by this\", \"negative\"),\n",
    "                (\"I am not connected with this\", \"negative\"),\n",
    "                (\"Sadistic creep you ass. Die.\", \"negative\"),\n",
    "                (\"All sorts of crazy and scary as hell.\", \"negative\"),\n",
    "                (\"Not his emails, no.\", \"negative\"),\n",
    "                (\"His father is dead. Returned obviously.\", \"negative\"),\n",
    "                (\"He has a bomb.\", \"negative\"),\n",
    "                (\"Too fast to be on foot. We cannot catch them.\", \"negative\")]\n",
    "tweets = []\n",
    "for (words, sentiment) in pos_tweets + neg_tweets:\n",
    "    words_filtered = [e.lower() for e in words.split() if len(e) >= 3] \n",
    "    tweets.append((words_filtered, sentiment))\n",
    "    "
   ]
  },
  {
   "cell_type": "markdown",
   "metadata": {},
   "source": [
    "On se retrouve avec un dataset **tweets** avec les mots filtrés"
   ]
  },
  {
   "cell_type": "markdown",
   "metadata": {},
   "source": [
    "--------\n",
    "On transforme alors cette liste en un training set applicable à un classifieur du type **nltk.NaiveBayesClassifier**"
   ]
  },
  {
   "cell_type": "code",
   "execution_count": 4,
   "metadata": {
    "collapsed": true
   },
   "outputs": [],
   "source": [
    "def mon_get_words_in_tweets(tweets): # from __future__ import print_function\n",
    "    all_words = []\n",
    "    for (words, sentiment) in tweets:\n",
    "        all_words.extend(words) \n",
    "    return all_words\n",
    "def mon_get_word_features(wordlist): \n",
    "    wordlist = nltk.FreqDist(wordlist) \n",
    "    word_features = wordlist.keys() \n",
    "    return word_features\n",
    "\n",
    "def mon_extract_features(document): \n",
    "    document_words = set(document) \n",
    "    features = {}\n",
    "    for word in word_features:\n",
    "        features[\"contains(%s)\" % word] = (word in document_words) \n",
    "    return features\n",
    "word_features = mon_get_word_features(mon_get_words_in_tweets(tweets)) \n",
    "training_set = nltk.classify.apply_features(mon_extract_features, tweets) "
   ]
  },
  {
   "cell_type": "code",
   "execution_count": 5,
   "metadata": {
    "collapsed": true
   },
   "outputs": [],
   "source": [
    "classifier = nltk.NaiveBayesClassifier.train(training_set)"
   ]
  },
  {
   "cell_type": "markdown",
   "metadata": {},
   "source": [
    "On utilise le formidable outil _pickle_ pour sauvegrader ce mini-modèle"
   ]
  },
  {
   "cell_type": "code",
   "execution_count": 6,
   "metadata": {
    "collapsed": true
   },
   "outputs": [],
   "source": [
    "save_classifier = open(\"tweetposneg.pickle\",\"wb\") \n",
    "pickle.dump(classifier, save_classifier) \n",
    "save_classifier.close()\n",
    "# On doit recharger pour tester d\"autres données de test : on peut le charger par les 3 lignes) : # classifier_f = open(\"naivebayes.pickle\", \"rb\")\n",
    "# classifier = pickle.load(classifier_f)\n",
    "# classifier_f.close()\n"
   ]
  },
  {
   "cell_type": "code",
   "execution_count": null,
   "metadata": {
    "collapsed": true
   },
   "outputs": [],
   "source": []
  },
  {
   "cell_type": "markdown",
   "metadata": {
    "collapsed": true
   },
   "source": [
    "## Grand Exemple"
   ]
  },
  {
   "cell_type": "markdown",
   "metadata": {},
   "source": [
    "### Paramètres"
   ]
  },
  {
   "cell_type": "code",
   "execution_count": 7,
   "metadata": {
    "collapsed": true
   },
   "outputs": [],
   "source": [
    "test_size = 0.2\n",
    "line_used = 1000\n",
    "path = \"Tweets-folder-Alex/Sentiment-Analysis-Dataset.csv\""
   ]
  },
  {
   "cell_type": "markdown",
   "metadata": {},
   "source": [
    "### Création du dataset d'entrainement et de test\n",
    "\n",
    "On utilise la fameuse combinaison **pandas/sklearn** afin de générer ces deux datasets"
   ]
  },
  {
   "cell_type": "code",
   "execution_count": 8,
   "metadata": {},
   "outputs": [
    {
     "name": "stderr",
     "output_type": "stream",
     "text": [
      "/Users/ppx/.local/lib/python3.6/site-packages/numpy/lib/arraysetops.py:569: FutureWarning: elementwise comparison failed; returning scalar instead, but in the future will perform elementwise comparison\n",
      "  mask |= (ar1 == a)\n"
     ]
    }
   ],
   "source": [
    "df = pd.read_csv(path, sep=\",\", index_col=\"ItemID\")\n",
    "df = df.head(line_used)\n",
    "\n",
    "train, test = train_test_split(df, test_size=test_size)\n",
    "\n",
    "def turn0intoneg(x):\n",
    "    if x:\n",
    "        return \"positive\"\n",
    "    else:\n",
    "        return \"negative\"\n",
    "  "
   ]
  },
  {
   "cell_type": "markdown",
   "metadata": {},
   "source": [
    "Cette transformation est-elle judicieuse ? \n",
    "\n",
    "Il serait sûrement plus économique de stocker l'information sous True ou False.\n",
    "\n",
    "\n",
    "Cependant c'est une pratique courante en text mining, on s'adapte donc."
   ]
  },
  {
   "cell_type": "code",
   "execution_count": 9,
   "metadata": {},
   "outputs": [],
   "source": [
    "  \n",
    "def makeTweets(dataFrame):\n",
    "    text = list(df.SentimentText)\n",
    "    sentiment = list(df.Sentiment)\n",
    "    sentiment = [turn0intoneg(s) for s in sentiment]\n",
    "    tweet_sent = [(t,s) for t, s in zip(text, sentiment)]\n",
    "    tweets = []\n",
    "\n",
    "    for (words, sentiment) in tweet_sent:\n",
    "        words_filtered = [e.lower() for e in words.split() if len(e) >= 3] \n",
    "        tweets.append((words_filtered, sentiment))\n",
    "    return tweets\n",
    "tweetsTrain = makeTweets(train)\n",
    "tweetsTest = makeTweets(test)\n",
    "\n",
    "textTest = list(test.SentimentText)\n",
    "sentimentTest = list(test.Sentiment)"
   ]
  },
  {
   "cell_type": "code",
   "execution_count": 21,
   "metadata": {},
   "outputs": [],
   "source": [
    "#word_features = mon_get_word_features(mon_get_words_in_tweets(tweetsTrain)) \n",
    "training_set = nltk.classify.apply_features(mon_extract_features, tweetsTrain) \n",
    "classifier = nltk.NaiveBayesClassifier.train(training_set)"
   ]
  },
  {
   "cell_type": "code",
   "execution_count": 34,
   "metadata": {},
   "outputs": [],
   "source": [
    "predicted = []\n",
    "for tweett in textTest:\n",
    "    valued = classifier.classify(mon_extract_features(tweett.split())) \n",
    "    predicted.append(valued)"
   ]
  },
  {
   "cell_type": "code",
   "execution_count": 35,
   "metadata": {
    "collapsed": true
   },
   "outputs": [],
   "source": [
    "def turnneginto0(x):\n",
    "    if x==\"positive\":\n",
    "        return 1\n",
    "    elif x==\"negative\":\n",
    "        return 0\n",
    "    else:\n",
    "        return x"
   ]
  },
  {
   "cell_type": "code",
   "execution_count": 55,
   "metadata": {
    "collapsed": true
   },
   "outputs": [],
   "source": [
    "predicted = [turnneginto0(p) for p in predicted]\n",
    "sentimentTest = [turnneginto0(s) for s in sentimentTest]\n",
    "CM = confusion_matrix(sentimentTest, predicted)\n",
    "CM = pd.DataFrame(CM, index = [\"True\", \"False\"], columns=[\"Negative\", \"positive\"])\n",
    "PS = precision_score(sentimentTest, predicted)\n",
    "ACC = accuracy_score(sentimentTest, predicted)\n",
    "REC = recall_score(sentimentTest, predicted)"
   ]
  },
  {
   "cell_type": "markdown",
   "metadata": {},
   "source": [
    "On affiche alors la matrice de confusion, qui permet d'avoir une idée de notre performance sur les données de test"
   ]
  },
  {
   "cell_type": "code",
   "execution_count": 56,
   "metadata": {},
   "outputs": [
    {
     "name": "stdout",
     "output_type": "stream",
     "text": [
      "============================== RESULTATS ==============================\n"
     ]
    },
    {
     "data": {
      "text/html": [
       "<div>\n",
       "<style>\n",
       "    .dataframe thead tr:only-child th {\n",
       "        text-align: right;\n",
       "    }\n",
       "\n",
       "    .dataframe thead th {\n",
       "        text-align: left;\n",
       "    }\n",
       "\n",
       "    .dataframe tbody tr th {\n",
       "        vertical-align: top;\n",
       "    }\n",
       "</style>\n",
       "<table border=\"1\" class=\"dataframe\">\n",
       "  <thead>\n",
       "    <tr style=\"text-align: right;\">\n",
       "      <th></th>\n",
       "      <th>Negative</th>\n",
       "      <th>positive</th>\n",
       "    </tr>\n",
       "  </thead>\n",
       "  <tbody>\n",
       "    <tr>\n",
       "      <th>True</th>\n",
       "      <td>131</td>\n",
       "      <td>5</td>\n",
       "    </tr>\n",
       "    <tr>\n",
       "      <th>False</th>\n",
       "      <td>62</td>\n",
       "      <td>2</td>\n",
       "    </tr>\n",
       "  </tbody>\n",
       "</table>\n",
       "</div>"
      ],
      "text/plain": [
       "       Negative  positive\n",
       "True        131         5\n",
       "False        62         2"
      ]
     },
     "execution_count": 56,
     "metadata": {},
     "output_type": "execute_result"
    }
   ],
   "source": [
    "print(\"=\"*30, \"RESULTATS\", \"=\"*30) \n",
    "CM.head()"
   ]
  },
  {
   "cell_type": "markdown",
   "metadata": {},
   "source": [
    "Ce qui nous donne des métriques :"
   ]
  },
  {
   "cell_type": "code",
   "execution_count": 57,
   "metadata": {},
   "outputs": [
    {
     "name": "stdout",
     "output_type": "stream",
     "text": [
      "Précision : 28 %\n",
      "Recall : 3 %\n",
      "Accuracy : 66 %\n"
     ]
    }
   ],
   "source": [
    "print(\"Précision :\", str(int(100 * PS)),  \"%\")\n",
    "print(\"Recall :\", str(int(100 * REC)),  \"%\")\n",
    "print(\"Accuracy :\", str(int(100 * ACC)),  \"%\")"
   ]
  },
  {
   "cell_type": "markdown",
   "metadata": {},
   "source": [
    "Ce qui pour l'instant est catastrophique"
   ]
  }
 ],
 "metadata": {
  "kernelspec": {
   "display_name": "Python 3",
   "language": "python",
   "name": "python3"
  },
  "language_info": {
   "codemirror_mode": {
    "name": "ipython",
    "version": 3
   },
   "file_extension": ".py",
   "mimetype": "text/x-python",
   "name": "python",
   "nbconvert_exporter": "python",
   "pygments_lexer": "ipython3",
   "version": "3.6.0"
  }
 },
 "nbformat": 4,
 "nbformat_minor": 2
}
